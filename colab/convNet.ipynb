{
  "nbformat": 4,
  "nbformat_minor": 0,
  "metadata": {
    "colab": {
      "name": "convNet.ipynb",
      "provenance": [],
      "collapsed_sections": []
    },
    "kernelspec": {
      "name": "python3",
      "display_name": "Python 3"
    },
    "accelerator": "TPU"
  },
  "cells": [
    {
      "cell_type": "markdown",
      "metadata": {
        "id": "view-in-github",
        "colab_type": "text"
      },
      "source": [
        "<a href=\"https://colab.research.google.com/github/mnansary/pyF2O/blob/master/colab_gen_unet.ipynb\" target=\"_parent\"><img src=\"https://colab.research.google.com/assets/colab-badge.svg\" alt=\"Open In Colab\"/></a>"
      ]
    },
    {
      "cell_type": "markdown",
      "metadata": {
        "id": "1ojVYZ7Spzpv",
        "colab_type": "text"
      },
      "source": [
        "# colab specific task\n",
        "*   mount google drive\n",
        "*   change working directory to git repo\n",
        "*   TPU check\n",
        "\n"
      ]
    },
    {
      "cell_type": "code",
      "metadata": {
        "id": "wvYke-OflNB2",
        "colab_type": "code",
        "colab": {
          "base_uri": "https://localhost:8080/",
          "height": 666
        },
        "outputId": "d532689e-5395-45ec-bcab-07b2bbc01a00"
      },
      "source": [
        "!pip3 install tensorflow==1.13.1"
      ],
      "execution_count": 1,
      "outputs": [
        {
          "output_type": "stream",
          "text": [
            "Collecting tensorflow==1.13.1\n",
            "\u001b[?25l  Downloading https://files.pythonhosted.org/packages/77/63/a9fa76de8dffe7455304c4ed635be4aa9c0bacef6e0633d87d5f54530c5c/tensorflow-1.13.1-cp36-cp36m-manylinux1_x86_64.whl (92.5MB)\n",
            "\u001b[K     |████████████████████████████████| 92.5MB 35kB/s \n",
            "\u001b[?25hRequirement already satisfied: absl-py>=0.1.6 in /usr/local/lib/python3.6/dist-packages (from tensorflow==1.13.1) (0.8.1)\n",
            "Requirement already satisfied: six>=1.10.0 in /usr/local/lib/python3.6/dist-packages (from tensorflow==1.13.1) (1.12.0)\n",
            "Requirement already satisfied: keras-preprocessing>=1.0.5 in /usr/local/lib/python3.6/dist-packages (from tensorflow==1.13.1) (1.1.0)\n",
            "Requirement already satisfied: astor>=0.6.0 in /usr/local/lib/python3.6/dist-packages (from tensorflow==1.13.1) (0.8.0)\n",
            "Requirement already satisfied: gast>=0.2.0 in /usr/local/lib/python3.6/dist-packages (from tensorflow==1.13.1) (0.2.2)\n",
            "Collecting tensorflow-estimator<1.14.0rc0,>=1.13.0\n",
            "\u001b[?25l  Downloading https://files.pythonhosted.org/packages/bb/48/13f49fc3fa0fdf916aa1419013bb8f2ad09674c275b4046d5ee669a46873/tensorflow_estimator-1.13.0-py2.py3-none-any.whl (367kB)\n",
            "\u001b[K     |████████████████████████████████| 368kB 46.7MB/s \n",
            "\u001b[?25hRequirement already satisfied: termcolor>=1.1.0 in /usr/local/lib/python3.6/dist-packages (from tensorflow==1.13.1) (1.1.0)\n",
            "Requirement already satisfied: wheel>=0.26 in /usr/local/lib/python3.6/dist-packages (from tensorflow==1.13.1) (0.33.6)\n",
            "Requirement already satisfied: grpcio>=1.8.6 in /usr/local/lib/python3.6/dist-packages (from tensorflow==1.13.1) (1.15.0)\n",
            "Requirement already satisfied: numpy>=1.13.3 in /usr/local/lib/python3.6/dist-packages (from tensorflow==1.13.1) (1.17.4)\n",
            "Requirement already satisfied: keras-applications>=1.0.6 in /usr/local/lib/python3.6/dist-packages (from tensorflow==1.13.1) (1.0.8)\n",
            "Collecting tensorboard<1.14.0,>=1.13.0\n",
            "\u001b[?25l  Downloading https://files.pythonhosted.org/packages/0f/39/bdd75b08a6fba41f098b6cb091b9e8c7a80e1b4d679a581a0ccd17b10373/tensorboard-1.13.1-py3-none-any.whl (3.2MB)\n",
            "\u001b[K     |████████████████████████████████| 3.2MB 41.2MB/s \n",
            "\u001b[?25hRequirement already satisfied: protobuf>=3.6.1 in /usr/local/lib/python3.6/dist-packages (from tensorflow==1.13.1) (3.10.0)\n",
            "Collecting mock>=2.0.0\n",
            "  Downloading https://files.pythonhosted.org/packages/05/d2/f94e68be6b17f46d2c353564da56e6fb89ef09faeeff3313a046cb810ca9/mock-3.0.5-py2.py3-none-any.whl\n",
            "Requirement already satisfied: h5py in /usr/local/lib/python3.6/dist-packages (from keras-applications>=1.0.6->tensorflow==1.13.1) (2.8.0)\n",
            "Requirement already satisfied: markdown>=2.6.8 in /usr/local/lib/python3.6/dist-packages (from tensorboard<1.14.0,>=1.13.0->tensorflow==1.13.1) (3.1.1)\n",
            "Requirement already satisfied: werkzeug>=0.11.15 in /usr/local/lib/python3.6/dist-packages (from tensorboard<1.14.0,>=1.13.0->tensorflow==1.13.1) (0.16.0)\n",
            "Requirement already satisfied: setuptools in /usr/local/lib/python3.6/dist-packages (from protobuf>=3.6.1->tensorflow==1.13.1) (42.0.2)\n",
            "Installing collected packages: mock, tensorflow-estimator, tensorboard, tensorflow\n",
            "  Found existing installation: tensorflow-estimator 1.15.1\n",
            "    Uninstalling tensorflow-estimator-1.15.1:\n",
            "      Successfully uninstalled tensorflow-estimator-1.15.1\n",
            "  Found existing installation: tensorboard 1.15.0\n",
            "    Uninstalling tensorboard-1.15.0:\n",
            "      Successfully uninstalled tensorboard-1.15.0\n",
            "  Found existing installation: tensorflow 1.15.0\n",
            "    Uninstalling tensorflow-1.15.0:\n",
            "      Successfully uninstalled tensorflow-1.15.0\n",
            "Successfully installed mock-3.0.5 tensorboard-1.13.1 tensorflow-1.13.1 tensorflow-estimator-1.13.0\n"
          ],
          "name": "stdout"
        }
      ]
    },
    {
      "cell_type": "code",
      "metadata": {
        "id": "--q4JaV2ps6z",
        "colab_type": "code",
        "outputId": "b519cf89-3979-4ae3-8cb2-c24525404ad8",
        "colab": {
          "base_uri": "https://localhost:8080/",
          "height": 122
        }
      },
      "source": [
        "from google.colab import drive\n",
        "drive.mount('/content/gdrive')\n"
      ],
      "execution_count": 2,
      "outputs": [
        {
          "output_type": "stream",
          "text": [
            "Go to this URL in a browser: https://accounts.google.com/o/oauth2/auth?client_id=947318989803-6bn6qk8qdgf4n4g3pfee6491hc0brc4i.apps.googleusercontent.com&redirect_uri=urn%3aietf%3awg%3aoauth%3a2.0%3aoob&response_type=code&scope=email%20https%3a%2f%2fwww.googleapis.com%2fauth%2fdocs.test%20https%3a%2f%2fwww.googleapis.com%2fauth%2fdrive%20https%3a%2f%2fwww.googleapis.com%2fauth%2fdrive.photos.readonly%20https%3a%2f%2fwww.googleapis.com%2fauth%2fpeopleapi.readonly\n",
            "\n",
            "Enter your authorization code:\n",
            "··········\n",
            "Mounted at /content/gdrive\n"
          ],
          "name": "stdout"
        }
      ]
    },
    {
      "cell_type": "code",
      "metadata": {
        "id": "IsVhQoAOqGGW",
        "colab_type": "code",
        "colab": {
          "base_uri": "https://localhost:8080/",
          "height": 34
        },
        "outputId": "5ff2155f-0bf5-42f1-ba7e-974096d8ae99"
      },
      "source": [
        "cd /content/gdrive/My\\ Drive/PROJECTS/MED/pySKIND"
      ],
      "execution_count": 3,
      "outputs": [
        {
          "output_type": "stream",
          "text": [
            "/content/gdrive/My Drive/PROJECTS/MED/pySKIND\n"
          ],
          "name": "stdout"
        }
      ]
    },
    {
      "cell_type": "markdown",
      "metadata": {
        "id": "692-uM-yqdaF",
        "colab_type": "text"
      },
      "source": [
        "## TPU Check"
      ]
    },
    {
      "cell_type": "code",
      "metadata": {
        "id": "JT9QkSiJqed6",
        "colab_type": "code",
        "colab": {
          "base_uri": "https://localhost:8080/",
          "height": 479
        },
        "outputId": "974ce662-374a-4487-fb57-f879ec9c78d7"
      },
      "source": [
        "import os\n",
        "import pprint\n",
        "import tensorflow as tf\n",
        "\n",
        "if 'COLAB_TPU_ADDR' not in os.environ:\n",
        "  print('ERROR: Not connected to a TPU runtime; please see the first cell in this notebook for instructions!')\n",
        "else:\n",
        "  tpu_address = 'grpc://' + os.environ['COLAB_TPU_ADDR']\n",
        "  print ('TPU address is', tpu_address)\n",
        "\n",
        "  with tf.Session(tpu_address) as session:\n",
        "    devices = session.list_devices()\n",
        "    \n",
        "  print('TPU devices:')\n",
        "  pprint.pprint(devices)\n",
        "\n",
        "tf.__version__"
      ],
      "execution_count": 4,
      "outputs": [
        {
          "output_type": "stream",
          "text": [
            "/usr/local/lib/python3.6/dist-packages/tensorflow/python/framework/dtypes.py:526: FutureWarning: Passing (type, 1) or '1type' as a synonym of type is deprecated; in a future version of numpy, it will be understood as (type, (1,)) / '(1,)type'.\n",
            "  _np_qint8 = np.dtype([(\"qint8\", np.int8, 1)])\n",
            "/usr/local/lib/python3.6/dist-packages/tensorflow/python/framework/dtypes.py:527: FutureWarning: Passing (type, 1) or '1type' as a synonym of type is deprecated; in a future version of numpy, it will be understood as (type, (1,)) / '(1,)type'.\n",
            "  _np_quint8 = np.dtype([(\"quint8\", np.uint8, 1)])\n",
            "/usr/local/lib/python3.6/dist-packages/tensorflow/python/framework/dtypes.py:528: FutureWarning: Passing (type, 1) or '1type' as a synonym of type is deprecated; in a future version of numpy, it will be understood as (type, (1,)) / '(1,)type'.\n",
            "  _np_qint16 = np.dtype([(\"qint16\", np.int16, 1)])\n",
            "/usr/local/lib/python3.6/dist-packages/tensorflow/python/framework/dtypes.py:529: FutureWarning: Passing (type, 1) or '1type' as a synonym of type is deprecated; in a future version of numpy, it will be understood as (type, (1,)) / '(1,)type'.\n",
            "  _np_quint16 = np.dtype([(\"quint16\", np.uint16, 1)])\n",
            "/usr/local/lib/python3.6/dist-packages/tensorflow/python/framework/dtypes.py:530: FutureWarning: Passing (type, 1) or '1type' as a synonym of type is deprecated; in a future version of numpy, it will be understood as (type, (1,)) / '(1,)type'.\n",
            "  _np_qint32 = np.dtype([(\"qint32\", np.int32, 1)])\n",
            "/usr/local/lib/python3.6/dist-packages/tensorflow/python/framework/dtypes.py:535: FutureWarning: Passing (type, 1) or '1type' as a synonym of type is deprecated; in a future version of numpy, it will be understood as (type, (1,)) / '(1,)type'.\n",
            "  np_resource = np.dtype([(\"resource\", np.ubyte, 1)])\n"
          ],
          "name": "stderr"
        },
        {
          "output_type": "stream",
          "text": [
            "TPU address is grpc://10.37.252.26:8470\n",
            "TPU devices:\n",
            "[_DeviceAttributes(/job:tpu_worker/replica:0/task:0/device:CPU:0, CPU, -1, 197002400276066651),\n",
            " _DeviceAttributes(/job:tpu_worker/replica:0/task:0/device:XLA_CPU:0, XLA_CPU, 17179869184, 11279336707971906111),\n",
            " _DeviceAttributes(/job:tpu_worker/replica:0/task:0/device:TPU:0, TPU, 17179869184, 1941627064747118608),\n",
            " _DeviceAttributes(/job:tpu_worker/replica:0/task:0/device:TPU:1, TPU, 17179869184, 16554302263359223941),\n",
            " _DeviceAttributes(/job:tpu_worker/replica:0/task:0/device:TPU:2, TPU, 17179869184, 4544093868429860026),\n",
            " _DeviceAttributes(/job:tpu_worker/replica:0/task:0/device:TPU:3, TPU, 17179869184, 3864770435420063108),\n",
            " _DeviceAttributes(/job:tpu_worker/replica:0/task:0/device:TPU:4, TPU, 17179869184, 17832107278403150249),\n",
            " _DeviceAttributes(/job:tpu_worker/replica:0/task:0/device:TPU:5, TPU, 17179869184, 932438884256077524),\n",
            " _DeviceAttributes(/job:tpu_worker/replica:0/task:0/device:TPU:6, TPU, 17179869184, 2308982483207305967),\n",
            " _DeviceAttributes(/job:tpu_worker/replica:0/task:0/device:TPU:7, TPU, 17179869184, 4324334283364705706),\n",
            " _DeviceAttributes(/job:tpu_worker/replica:0/task:0/device:TPU_SYSTEM:0, TPU_SYSTEM, 8589934592, 14627870677086070341)]\n"
          ],
          "name": "stdout"
        },
        {
          "output_type": "execute_result",
          "data": {
            "text/plain": [
              "'1.13.1'"
            ]
          },
          "metadata": {
            "tags": []
          },
          "execution_count": 4
        }
      ]
    },
    {
      "cell_type": "markdown",
      "metadata": {
        "id": "dxefiHZ4qlHA",
        "colab_type": "text"
      },
      "source": [
        "# ConvNet Model Training"
      ]
    },
    {
      "cell_type": "markdown",
      "metadata": {
        "id": "o2usCWY1Fc6E",
        "colab_type": "text"
      },
      "source": [
        "### Data"
      ]
    },
    {
      "cell_type": "code",
      "metadata": {
        "id": "Tdzez_PiFVTM",
        "colab_type": "code",
        "cellView": "both",
        "outputId": "6df58cec-1560-4fd3-ab23-2223e089eb89",
        "colab": {
          "base_uri": "https://localhost:8080/",
          "height": 85
        }
      },
      "source": [
        "import sys\n",
        "sys.path.append('.')\n",
        "\n",
        "from coreLib.utils import readh5\n",
        "import numpy as np \n",
        "class PARAMS:\n",
        "    DS_DIR  = '/content/gdrive/My Drive/PROJECTS/MED/Train/' # @param\n",
        "    BATCH_SIZE      = 128  # @param\n",
        "    NUM_EPOCHS      = 100  # @param\n",
        "    IMAGE_DIM       = 64  # @param\n",
        "    NB_CHANNELS     = 3    # @param\n",
        "    X_TRAIN_IDEN    = 'X_train.h5'  # @param\n",
        "    Y_TRAIN_IDEN    = 'Y_train.h5'  # @param\n",
        "    X_EVAL_IDEN     = 'X_eval.h5'  # @param\n",
        "    Y_EVAL_IDEN     = 'Y_eval.h5'  # @param\n",
        "    MODEL_DIR       = '/content/gdrive/My Drive/PROJECTS/MED/MODEL_DIR/' # @param\n",
        "    MODEL_NAME      = 'convNet' # @param\n",
        "\n",
        "X_train=readh5(os.path.join(PARAMS.DS_DIR,PARAMS.X_TRAIN_IDEN))\n",
        "Y_train=readh5(os.path.join(PARAMS.DS_DIR,PARAMS.Y_TRAIN_IDEN))\n",
        "X_eval=readh5(os.path.join(PARAMS.DS_DIR,PARAMS.X_EVAL_IDEN))\n",
        "Y_eval=readh5(os.path.join(PARAMS.DS_DIR,PARAMS.Y_EVAL_IDEN))\n",
        "\n",
        "X_train=X_train.astype('float32')/255.0\n",
        "X_eval=X_eval.astype('float32')/255.0\n",
        "\n",
        "print(X_train.shape)\n",
        "print(Y_train.shape)\n",
        "print(X_eval.shape)\n",
        "print(Y_eval.shape)\n"
      ],
      "execution_count": 5,
      "outputs": [
        {
          "output_type": "stream",
          "text": [
            "(24192, 64, 64, 3)\n",
            "(24192, 2)\n",
            "(1152, 64, 64, 3)\n",
            "(1152, 2)\n"
          ],
          "name": "stdout"
        }
      ]
    },
    {
      "cell_type": "markdown",
      "metadata": {
        "id": "blwtSzOarVYM",
        "colab_type": "text"
      },
      "source": [
        "### Compile Model"
      ]
    },
    {
      "cell_type": "code",
      "metadata": {
        "id": "BOro7D1krWYf",
        "colab_type": "code",
        "outputId": "7b3a337d-d806-44ff-8c28-a50835e175da",
        "colab": {
          "base_uri": "https://localhost:8080/",
          "height": 683
        }
      },
      "source": [
        "from tensorflow.keras.optimizers import Adam\n",
        "from tensorflow.keras.losses import categorical_crossentropy\n",
        "from coreLib.models import conv_net\n",
        "'''\n",
        "resolver = tf.contrib.cluster_resolver.TPUClusterResolver(tpu_address)\n",
        "tf.contrib.distribute.initialize_tpu_system(resolver)\n",
        "strategy = tf.contrib.distribute.TPUStrategy(resolver)\n",
        "with strategy.scope():\n",
        "'''\n",
        "model=conv_net(img_dim=PARAMS.IMAGE_DIM,nb_channels=PARAMS.NB_CHANNELS)\n",
        "model.summary()\n",
        "model.compile(optimizer=Adam(), \n",
        "              loss=categorical_crossentropy,\n",
        "              metrics=['accuracy'])"
      ],
      "execution_count": 6,
      "outputs": [
        {
          "output_type": "stream",
          "text": [
            "WARNING:tensorflow:From /usr/local/lib/python3.6/dist-packages/tensorflow/python/ops/resource_variable_ops.py:435: colocate_with (from tensorflow.python.framework.ops) is deprecated and will be removed in a future version.\n",
            "Instructions for updating:\n",
            "Colocations handled automatically by placer.\n",
            "_________________________________________________________________\n",
            "Layer (type)                 Output Shape              Param #   \n",
            "=================================================================\n",
            "conv2d (Conv2D)              (None, 63, 63, 64)        832       \n",
            "_________________________________________________________________\n",
            "max_pooling2d (MaxPooling2D) (None, 31, 31, 64)        0         \n",
            "_________________________________________________________________\n",
            "conv2d_1 (Conv2D)            (None, 30, 30, 64)        16448     \n",
            "_________________________________________________________________\n",
            "max_pooling2d_1 (MaxPooling2 (None, 15, 15, 64)        0         \n",
            "_________________________________________________________________\n",
            "conv2d_2 (Conv2D)            (None, 14, 14, 128)       32896     \n",
            "_________________________________________________________________\n",
            "max_pooling2d_2 (MaxPooling2 (None, 7, 7, 128)         0         \n",
            "_________________________________________________________________\n",
            "conv2d_3 (Conv2D)            (None, 6, 6, 256)         131328    \n",
            "_________________________________________________________________\n",
            "max_pooling2d_3 (MaxPooling2 (None, 3, 3, 256)         0         \n",
            "_________________________________________________________________\n",
            "conv2d_4 (Conv2D)            (None, 2, 2, 512)         524800    \n",
            "_________________________________________________________________\n",
            "max_pooling2d_4 (MaxPooling2 (None, 1, 1, 512)         0         \n",
            "_________________________________________________________________\n",
            "flatten (Flatten)            (None, 512)               0         \n",
            "_________________________________________________________________\n",
            "dense (Dense)                (None, 256)               131328    \n",
            "_________________________________________________________________\n",
            "dense_1 (Dense)              (None, 512)               131584    \n",
            "_________________________________________________________________\n",
            "dense_2 (Dense)              (None, 2)                 1026      \n",
            "=================================================================\n",
            "Total params: 970,242\n",
            "Trainable params: 970,242\n",
            "Non-trainable params: 0\n",
            "_________________________________________________________________\n"
          ],
          "name": "stdout"
        }
      ]
    },
    {
      "cell_type": "markdown",
      "metadata": {
        "id": "9nQXx8YRNSyr",
        "colab_type": "text"
      },
      "source": [
        "### Train"
      ]
    },
    {
      "cell_type": "code",
      "metadata": {
        "id": "OWTUQlweNYYN",
        "colab_type": "code",
        "outputId": "4708c685-dbb7-45ee-d64a-12b4b5759bec",
        "colab": {
          "base_uri": "https://localhost:8080/",
          "height": 1000
        }
      },
      "source": [
        "#from tensorflow.keras.callbacks import ModelCheckpoint   \n",
        "#checkpointer = ModelCheckpoint(filepath=os.path.join(PARAMS.MODEL_DIR,'{}.h5'.format(PARAMS.MODEL_NAME)), \n",
        "                               #verbose=1, \n",
        "                               #save_best_only=True)\n",
        "\n",
        "TPU_WORKER = 'grpc://' + os.environ['COLAB_TPU_ADDR']\n",
        "tf.logging.set_verbosity(tf.logging.INFO)\n",
        "\n",
        "model = tf.contrib.tpu.keras_to_tpu_model(model,\n",
        "                                          strategy=tf.contrib.tpu.TPUDistributionStrategy(tf.contrib.cluster_resolver.TPUClusterResolver(TPU_WORKER)))\n",
        "\n",
        "history=model.fit(X_train,Y_train,\n",
        "                  validation_data=(X_eval,Y_eval),\n",
        "                  epochs=PARAMS.NUM_EPOCHS,\n",
        "                  batch_size=PARAMS.BATCH_SIZE, \n",
        "                  verbose=1)#callbacks=[checkpointer],"
      ],
      "execution_count": 7,
      "outputs": [
        {
          "output_type": "stream",
          "text": [
            "\n",
            "WARNING: The TensorFlow contrib module will not be included in TensorFlow 2.0.\n",
            "For more information, please see:\n",
            "  * https://github.com/tensorflow/community/blob/master/rfcs/20180907-contrib-sunset.md\n",
            "  * https://github.com/tensorflow/addons\n",
            "If you depend on functionality not listed there, please file an issue.\n",
            "\n",
            "INFO:tensorflow:Querying Tensorflow master (grpc://10.37.252.26:8470) for TPU system metadata.\n",
            "INFO:tensorflow:Found TPU system:\n",
            "INFO:tensorflow:*** Num TPU Cores: 8\n",
            "INFO:tensorflow:*** Num TPU Workers: 1\n",
            "INFO:tensorflow:*** Num TPU Cores Per Worker: 8\n",
            "INFO:tensorflow:*** Available Device: _DeviceAttributes(/job:worker/replica:0/task:0/device:CPU:0, CPU, -1, 197002400276066651)\n",
            "INFO:tensorflow:*** Available Device: _DeviceAttributes(/job:worker/replica:0/task:0/device:XLA_CPU:0, XLA_CPU, 17179869184, 11279336707971906111)\n",
            "INFO:tensorflow:*** Available Device: _DeviceAttributes(/job:worker/replica:0/task:0/device:TPU:0, TPU, 17179869184, 1941627064747118608)\n",
            "INFO:tensorflow:*** Available Device: _DeviceAttributes(/job:worker/replica:0/task:0/device:TPU:1, TPU, 17179869184, 16554302263359223941)\n",
            "INFO:tensorflow:*** Available Device: _DeviceAttributes(/job:worker/replica:0/task:0/device:TPU:2, TPU, 17179869184, 4544093868429860026)\n",
            "INFO:tensorflow:*** Available Device: _DeviceAttributes(/job:worker/replica:0/task:0/device:TPU:3, TPU, 17179869184, 3864770435420063108)\n",
            "INFO:tensorflow:*** Available Device: _DeviceAttributes(/job:worker/replica:0/task:0/device:TPU:4, TPU, 17179869184, 17832107278403150249)\n",
            "INFO:tensorflow:*** Available Device: _DeviceAttributes(/job:worker/replica:0/task:0/device:TPU:5, TPU, 17179869184, 932438884256077524)\n",
            "INFO:tensorflow:*** Available Device: _DeviceAttributes(/job:worker/replica:0/task:0/device:TPU:6, TPU, 17179869184, 2308982483207305967)\n",
            "INFO:tensorflow:*** Available Device: _DeviceAttributes(/job:worker/replica:0/task:0/device:TPU:7, TPU, 17179869184, 4324334283364705706)\n",
            "INFO:tensorflow:*** Available Device: _DeviceAttributes(/job:worker/replica:0/task:0/device:TPU_SYSTEM:0, TPU_SYSTEM, 8589934592, 14627870677086070341)\n",
            "WARNING:tensorflow:tpu_model (from tensorflow.contrib.tpu.python.tpu.keras_support) is experimental and may change or be removed at any time, and without warning.\n",
            "INFO:tensorflow:Cloning Adam {'lr': 0.0010000000474974513, 'beta_1': 0.8999999761581421, 'beta_2': 0.9990000128746033, 'decay': 0.0, 'epsilon': 1e-07, 'amsgrad': False}\n",
            "INFO:tensorflow:Cloning Adam {'lr': 0.0010000000474974513, 'beta_1': 0.8999999761581421, 'beta_2': 0.9990000128746033, 'decay': 0.0, 'epsilon': 1e-07, 'amsgrad': False}\n",
            "Train on 24192 samples, validate on 1152 samples\n",
            "Epoch 1/100\n",
            "INFO:tensorflow:New input shapes; (re-)compiling: mode=train (# of cores 8), [TensorSpec(shape=(16,), dtype=tf.int32, name='core_id0'), TensorSpec(shape=(16, 64, 64, 3), dtype=tf.float32, name='conv2d_input_10'), TensorSpec(shape=(16, 2), dtype=tf.float32, name='dense_2_target_30')]\n",
            "INFO:tensorflow:Overriding default placeholder.\n",
            "INFO:tensorflow:Cloning Adam {'lr': 0.0010000000474974513, 'beta_1': 0.8999999761581421, 'beta_2': 0.9990000128746033, 'decay': 0.0, 'epsilon': 1e-07, 'amsgrad': False}\n",
            "INFO:tensorflow:Remapping placeholder for conv2d_input\n",
            "WARNING:tensorflow:From /usr/local/lib/python3.6/dist-packages/tensorflow/contrib/tpu/python/tpu/keras_support.py:302: to_float (from tensorflow.python.ops.math_ops) is deprecated and will be removed in a future version.\n",
            "Instructions for updating:\n",
            "Use tf.cast instead.\n",
            "INFO:tensorflow:KerasCrossShard: <tensorflow.python.keras.optimizers.Adam object at 0x7f7f2fbd04e0> []\n",
            "WARNING:tensorflow:From /usr/local/lib/python3.6/dist-packages/tensorflow/python/ops/math_ops.py:3066: to_int32 (from tensorflow.python.ops.math_ops) is deprecated and will be removed in a future version.\n",
            "Instructions for updating:\n",
            "Use tf.cast instead.\n",
            "INFO:tensorflow:Started compiling\n",
            "INFO:tensorflow:Finished compiling. Time elapsed: 4.860625505447388 secs\n",
            "INFO:tensorflow:Setting weights on TPU model.\n",
            "INFO:tensorflow:CPU -> TPU lr: 0.0010000000474974513 {0.001}\n",
            "INFO:tensorflow:CPU -> TPU beta_1: 0.8999999761581421 {0.9}\n",
            "INFO:tensorflow:CPU -> TPU beta_2: 0.9990000128746033 {0.999}\n",
            "INFO:tensorflow:CPU -> TPU decay: 0.0 {0.0}\n",
            "WARNING:tensorflow:Cannot update non-variable config: epsilon\n",
            "WARNING:tensorflow:Cannot update non-variable config: amsgrad\n",
            "24064/24192 [============================>.] - ETA: 0s - loss: 0.6594 - acc: 0.6011INFO:tensorflow:New input shapes; (re-)compiling: mode=eval (# of cores 8), [TensorSpec(shape=(16,), dtype=tf.int32, name='core_id_10'), TensorSpec(shape=(16, 64, 64, 3), dtype=tf.float32, name='conv2d_input_10'), TensorSpec(shape=(16, 2), dtype=tf.float32, name='dense_2_target_30')]\n",
            "INFO:tensorflow:Overriding default placeholder.\n",
            "INFO:tensorflow:Cloning Adam {'lr': 0.0010000000474974513, 'beta_1': 0.8999999761581421, 'beta_2': 0.9990000128746033, 'decay': 0.0, 'epsilon': 1e-07, 'amsgrad': False}\n",
            "INFO:tensorflow:Remapping placeholder for conv2d_input\n",
            "INFO:tensorflow:KerasCrossShard: <tensorflow.python.keras.optimizers.Adam object at 0x7f7f2ceff278> []\n",
            "INFO:tensorflow:Started compiling\n",
            "INFO:tensorflow:Finished compiling. Time elapsed: 1.7803316116333008 secs\n",
            "24192/24192 [==============================] - 22s 914us/sample - loss: 0.6593 - acc: 0.6011 - val_loss: 0.6254 - val_acc: 0.6406\n",
            "Epoch 2/100\n",
            "24192/24192 [==============================] - 6s 241us/sample - loss: 0.6028 - acc: 0.6703 - val_loss: 0.5804 - val_acc: 0.6641\n",
            "Epoch 3/100\n",
            "24192/24192 [==============================] - 6s 258us/sample - loss: 0.5477 - acc: 0.7052 - val_loss: 0.5046 - val_acc: 0.7378\n",
            "Epoch 4/100\n",
            "24192/24192 [==============================] - 6s 248us/sample - loss: 0.4703 - acc: 0.7679 - val_loss: 0.4721 - val_acc: 0.7743\n",
            "Epoch 5/100\n",
            "24192/24192 [==============================] - 6s 244us/sample - loss: 0.3750 - acc: 0.8219 - val_loss: 0.3391 - val_acc: 0.8316\n",
            "Epoch 6/100\n",
            "24192/24192 [==============================] - 6s 236us/sample - loss: 0.2786 - acc: 0.8747 - val_loss: 0.2291 - val_acc: 0.9010\n",
            "Epoch 7/100\n",
            "24192/24192 [==============================] - 6s 235us/sample - loss: 0.1861 - acc: 0.9208 - val_loss: 0.1898 - val_acc: 0.9193\n",
            "Epoch 8/100\n",
            "24192/24192 [==============================] - 6s 242us/sample - loss: 0.1357 - acc: 0.9468 - val_loss: 0.1469 - val_acc: 0.9479\n",
            "Epoch 9/100\n",
            "24192/24192 [==============================] - 6s 243us/sample - loss: 0.0909 - acc: 0.9645 - val_loss: 0.1174 - val_acc: 0.9540\n",
            "Epoch 10/100\n",
            "24192/24192 [==============================] - 6s 243us/sample - loss: 0.0565 - acc: 0.9792 - val_loss: 0.1626 - val_acc: 0.9384\n",
            "Epoch 11/100\n",
            "24192/24192 [==============================] - 6s 240us/sample - loss: 0.0656 - acc: 0.9762 - val_loss: 0.1532 - val_acc: 0.9418\n",
            "Epoch 12/100\n",
            "24192/24192 [==============================] - 6s 237us/sample - loss: 0.0600 - acc: 0.9780 - val_loss: 0.0854 - val_acc: 0.9696\n",
            "Epoch 13/100\n",
            "24192/24192 [==============================] - 6s 243us/sample - loss: 0.0282 - acc: 0.9907 - val_loss: 0.1325 - val_acc: 0.9557\n",
            "Epoch 14/100\n",
            "24192/24192 [==============================] - 6s 245us/sample - loss: 0.0284 - acc: 0.9897 - val_loss: 0.0703 - val_acc: 0.9809\n",
            "Epoch 15/100\n",
            "24192/24192 [==============================] - 6s 243us/sample - loss: 0.0362 - acc: 0.9869 - val_loss: 0.1112 - val_acc: 0.9583\n",
            "Epoch 16/100\n",
            "24192/24192 [==============================] - 6s 245us/sample - loss: 0.0382 - acc: 0.9876 - val_loss: 0.2772 - val_acc: 0.8932\n",
            "Epoch 17/100\n",
            "24192/24192 [==============================] - 6s 244us/sample - loss: 0.0244 - acc: 0.9919 - val_loss: 0.0943 - val_acc: 0.9774\n",
            "Epoch 18/100\n",
            "24192/24192 [==============================] - 6s 237us/sample - loss: 0.0343 - acc: 0.9885 - val_loss: 0.0789 - val_acc: 0.9731\n",
            "Epoch 19/100\n",
            "24192/24192 [==============================] - 6s 242us/sample - loss: 0.0175 - acc: 0.9939 - val_loss: 0.1035 - val_acc: 0.9696\n",
            "Epoch 20/100\n",
            "24192/24192 [==============================] - 6s 244us/sample - loss: 0.0225 - acc: 0.9917 - val_loss: 0.0660 - val_acc: 0.9740\n",
            "Epoch 21/100\n",
            "24192/24192 [==============================] - 6s 236us/sample - loss: 0.0275 - acc: 0.9914 - val_loss: 0.0479 - val_acc: 0.9835\n",
            "Epoch 22/100\n",
            "24192/24192 [==============================] - 6s 246us/sample - loss: 0.0167 - acc: 0.9945 - val_loss: 0.0791 - val_acc: 0.9757\n",
            "Epoch 23/100\n",
            "24192/24192 [==============================] - 6s 246us/sample - loss: 0.0405 - acc: 0.9852 - val_loss: 0.0448 - val_acc: 0.9870\n",
            "Epoch 24/100\n",
            "24192/24192 [==============================] - 6s 255us/sample - loss: 0.0086 - acc: 0.9974 - val_loss: 0.0530 - val_acc: 0.9870\n",
            "Epoch 25/100\n",
            "24192/24192 [==============================] - 6s 242us/sample - loss: 0.0122 - acc: 0.9957 - val_loss: 0.0531 - val_acc: 0.9844\n",
            "Epoch 26/100\n",
            "24192/24192 [==============================] - 6s 244us/sample - loss: 0.0034 - acc: 0.9987 - val_loss: 0.0700 - val_acc: 0.9835\n",
            "Epoch 27/100\n",
            "24192/24192 [==============================] - 6s 240us/sample - loss: 0.0264 - acc: 0.9920 - val_loss: 0.0985 - val_acc: 0.9688\n",
            "Epoch 28/100\n",
            "24192/24192 [==============================] - 6s 245us/sample - loss: 0.0266 - acc: 0.9903 - val_loss: 0.0537 - val_acc: 0.9835\n",
            "Epoch 29/100\n",
            "24192/24192 [==============================] - 6s 253us/sample - loss: 0.0159 - acc: 0.9943 - val_loss: 0.0434 - val_acc: 0.9861\n",
            "Epoch 30/100\n",
            "24192/24192 [==============================] - 6s 238us/sample - loss: 0.0138 - acc: 0.9952 - val_loss: 0.0356 - val_acc: 0.9870\n",
            "Epoch 31/100\n",
            "24192/24192 [==============================] - 6s 239us/sample - loss: 0.0441 - acc: 0.9850 - val_loss: 0.0637 - val_acc: 0.9792\n",
            "Epoch 32/100\n",
            "24192/24192 [==============================] - 6s 241us/sample - loss: 0.0235 - acc: 0.9921 - val_loss: 0.0661 - val_acc: 0.9783\n",
            "Epoch 33/100\n",
            "24192/24192 [==============================] - 6s 247us/sample - loss: 0.0115 - acc: 0.9960 - val_loss: 0.0376 - val_acc: 0.9896\n",
            "Epoch 34/100\n",
            "24192/24192 [==============================] - 6s 244us/sample - loss: 0.0132 - acc: 0.9957 - val_loss: 0.0815 - val_acc: 0.9800\n",
            "Epoch 35/100\n",
            "24192/24192 [==============================] - 6s 249us/sample - loss: 0.0025 - acc: 0.9993 - val_loss: 0.0317 - val_acc: 0.9887\n",
            "Epoch 36/100\n",
            "24192/24192 [==============================] - 6s 241us/sample - loss: 0.0196 - acc: 0.9935 - val_loss: 0.0689 - val_acc: 0.9757\n",
            "Epoch 37/100\n",
            "24192/24192 [==============================] - 6s 240us/sample - loss: 0.0123 - acc: 0.9962 - val_loss: 0.0520 - val_acc: 0.9826\n",
            "Epoch 38/100\n",
            "24192/24192 [==============================] - 6s 237us/sample - loss: 0.0080 - acc: 0.9975 - val_loss: 0.0822 - val_acc: 0.9800\n",
            "Epoch 39/100\n",
            "24192/24192 [==============================] - 6s 246us/sample - loss: 0.0164 - acc: 0.9943 - val_loss: 0.0945 - val_acc: 0.9757\n",
            "Epoch 40/100\n",
            "24192/24192 [==============================] - 6s 253us/sample - loss: 0.0221 - acc: 0.9928 - val_loss: 0.0560 - val_acc: 0.9800\n",
            "Epoch 41/100\n",
            "24192/24192 [==============================] - 6s 242us/sample - loss: 0.0101 - acc: 0.9968 - val_loss: 0.1984 - val_acc: 0.9488\n",
            "Epoch 42/100\n",
            "24192/24192 [==============================] - 6s 251us/sample - loss: 0.0243 - acc: 0.9923 - val_loss: 0.0915 - val_acc: 0.9748\n",
            "Epoch 43/100\n",
            "24192/24192 [==============================] - 6s 249us/sample - loss: 0.0077 - acc: 0.9978 - val_loss: 0.0470 - val_acc: 0.9835\n",
            "Epoch 44/100\n",
            "24192/24192 [==============================] - 6s 244us/sample - loss: 0.0143 - acc: 0.9952 - val_loss: 0.0531 - val_acc: 0.9835\n",
            "Epoch 45/100\n",
            "24192/24192 [==============================] - 6s 243us/sample - loss: 0.0034 - acc: 0.9989 - val_loss: 0.0771 - val_acc: 0.9818\n",
            "Epoch 46/100\n",
            "24192/24192 [==============================] - 6s 248us/sample - loss: 0.0273 - acc: 0.9903 - val_loss: 0.0612 - val_acc: 0.9766\n",
            "Epoch 47/100\n",
            "24192/24192 [==============================] - 6s 248us/sample - loss: 0.0079 - acc: 0.9974 - val_loss: 0.0877 - val_acc: 0.9774\n",
            "Epoch 48/100\n",
            "24192/24192 [==============================] - 6s 243us/sample - loss: 0.0117 - acc: 0.9964 - val_loss: 0.1512 - val_acc: 0.9601\n",
            "Epoch 49/100\n",
            "24192/24192 [==============================] - 6s 245us/sample - loss: 0.0126 - acc: 0.9956 - val_loss: 0.0804 - val_acc: 0.9705\n",
            "Epoch 50/100\n",
            "24192/24192 [==============================] - 6s 245us/sample - loss: 0.0074 - acc: 0.9979 - val_loss: 0.1021 - val_acc: 0.9740\n",
            "Epoch 51/100\n",
            "24192/24192 [==============================] - 6s 245us/sample - loss: 0.0105 - acc: 0.9967 - val_loss: 0.0503 - val_acc: 0.9870\n",
            "Epoch 52/100\n",
            "24192/24192 [==============================] - 6s 252us/sample - loss: 0.0081 - acc: 0.9975 - val_loss: 0.0613 - val_acc: 0.9844\n",
            "Epoch 53/100\n",
            "24192/24192 [==============================] - 6s 238us/sample - loss: 0.0166 - acc: 0.9952 - val_loss: 0.1034 - val_acc: 0.9705\n",
            "Epoch 54/100\n",
            "24192/24192 [==============================] - 6s 245us/sample - loss: 0.0208 - acc: 0.9933 - val_loss: 0.0489 - val_acc: 0.9870\n",
            "Epoch 55/100\n",
            "24192/24192 [==============================] - 6s 255us/sample - loss: 0.0098 - acc: 0.9974 - val_loss: 0.0418 - val_acc: 0.9870\n",
            "Epoch 56/100\n",
            "24192/24192 [==============================] - 6s 262us/sample - loss: 0.0018 - acc: 0.9995 - val_loss: 0.0396 - val_acc: 0.9878\n",
            "Epoch 57/100\n",
            "24192/24192 [==============================] - 6s 247us/sample - loss: 0.0143 - acc: 0.9958 - val_loss: 0.0374 - val_acc: 0.9852\n",
            "Epoch 58/100\n",
            "24192/24192 [==============================] - 6s 242us/sample - loss: 0.0057 - acc: 0.9982 - val_loss: 0.0744 - val_acc: 0.9861\n",
            "Epoch 59/100\n",
            "24192/24192 [==============================] - 6s 242us/sample - loss: 0.0167 - acc: 0.9943 - val_loss: 0.0809 - val_acc: 0.9757\n",
            "Epoch 60/100\n",
            "24192/24192 [==============================] - 6s 242us/sample - loss: 0.0150 - acc: 0.9952 - val_loss: 0.0339 - val_acc: 0.9878\n",
            "Epoch 61/100\n",
            "24192/24192 [==============================] - 6s 250us/sample - loss: 0.0094 - acc: 0.9968 - val_loss: 0.0497 - val_acc: 0.9852\n",
            "Epoch 62/100\n",
            "24192/24192 [==============================] - 6s 240us/sample - loss: 0.0199 - acc: 0.9937 - val_loss: 0.0686 - val_acc: 0.9792\n",
            "Epoch 63/100\n",
            "24192/24192 [==============================] - 6s 243us/sample - loss: 0.0085 - acc: 0.9970 - val_loss: 0.0606 - val_acc: 0.9844\n",
            "Epoch 64/100\n",
            "24192/24192 [==============================] - 6s 248us/sample - loss: 0.0042 - acc: 0.9986 - val_loss: 0.0204 - val_acc: 0.9939\n",
            "Epoch 65/100\n",
            "24192/24192 [==============================] - 6s 249us/sample - loss: 0.0106 - acc: 0.9965 - val_loss: 0.0462 - val_acc: 0.9861\n",
            "Epoch 66/100\n",
            "24192/24192 [==============================] - 6s 240us/sample - loss: 0.0012 - acc: 0.9995 - val_loss: 0.0232 - val_acc: 0.9965\n",
            "Epoch 67/100\n",
            "24192/24192 [==============================] - 6s 244us/sample - loss: 0.0039 - acc: 0.9989 - val_loss: 0.1251 - val_acc: 0.9670\n",
            "Epoch 68/100\n",
            "24192/24192 [==============================] - 6s 243us/sample - loss: 0.0129 - acc: 0.9959 - val_loss: 0.0519 - val_acc: 0.9818\n",
            "Epoch 69/100\n",
            "24192/24192 [==============================] - 6s 248us/sample - loss: 0.0074 - acc: 0.9974 - val_loss: 0.0459 - val_acc: 0.9878\n",
            "Epoch 70/100\n",
            "24192/24192 [==============================] - 6s 238us/sample - loss: 0.0040 - acc: 0.9988 - val_loss: 0.0313 - val_acc: 0.9896\n",
            "Epoch 71/100\n",
            "24192/24192 [==============================] - 6s 241us/sample - loss: 0.0181 - acc: 0.9941 - val_loss: 0.0611 - val_acc: 0.9826\n",
            "Epoch 72/100\n",
            "24192/24192 [==============================] - 6s 247us/sample - loss: 0.0088 - acc: 0.9973 - val_loss: 0.0487 - val_acc: 0.9870\n",
            "Epoch 73/100\n",
            "24192/24192 [==============================] - 6s 239us/sample - loss: 0.0062 - acc: 0.9976 - val_loss: 0.1108 - val_acc: 0.9714\n",
            "Epoch 74/100\n",
            "24192/24192 [==============================] - 6s 245us/sample - loss: 0.0193 - acc: 0.9936 - val_loss: 0.0368 - val_acc: 0.9922\n",
            "Epoch 75/100\n",
            "24192/24192 [==============================] - 6s 249us/sample - loss: 0.0031 - acc: 0.9990 - val_loss: 0.0546 - val_acc: 0.9878\n",
            "Epoch 76/100\n",
            "24192/24192 [==============================] - 6s 245us/sample - loss: 0.0130 - acc: 0.9957 - val_loss: 0.0388 - val_acc: 0.9905\n",
            "Epoch 77/100\n",
            "24192/24192 [==============================] - 6s 250us/sample - loss: 0.0117 - acc: 0.9959 - val_loss: 0.0388 - val_acc: 0.9887\n",
            "Epoch 78/100\n",
            "24192/24192 [==============================] - 6s 243us/sample - loss: 0.0031 - acc: 0.9990 - val_loss: 0.0282 - val_acc: 0.9887\n",
            "Epoch 79/100\n",
            "24192/24192 [==============================] - 6s 242us/sample - loss: 0.0069 - acc: 0.9977 - val_loss: 0.0424 - val_acc: 0.9861\n",
            "Epoch 80/100\n",
            "24192/24192 [==============================] - 6s 251us/sample - loss: 0.0011 - acc: 0.9996 - val_loss: 0.0341 - val_acc: 0.9913\n",
            "Epoch 81/100\n",
            "24192/24192 [==============================] - 6s 242us/sample - loss: 0.0022 - acc: 0.9993 - val_loss: 0.0550 - val_acc: 0.9852\n",
            "Epoch 82/100\n",
            "24192/24192 [==============================] - 6s 240us/sample - loss: 0.0281 - acc: 0.9910 - val_loss: 0.0696 - val_acc: 0.9800\n",
            "Epoch 83/100\n",
            "24192/24192 [==============================] - 6s 248us/sample - loss: 0.0054 - acc: 0.9982 - val_loss: 0.0346 - val_acc: 0.9913\n",
            "Epoch 84/100\n",
            "24192/24192 [==============================] - 6s 244us/sample - loss: 0.0018 - acc: 0.9995 - val_loss: 0.1257 - val_acc: 0.9748\n",
            "Epoch 85/100\n",
            "24192/24192 [==============================] - 6s 243us/sample - loss: 0.0252 - acc: 0.9917 - val_loss: 0.0513 - val_acc: 0.9792\n",
            "Epoch 86/100\n",
            "24192/24192 [==============================] - 6s 237us/sample - loss: 0.0054 - acc: 0.9981 - val_loss: 0.0510 - val_acc: 0.9826\n",
            "Epoch 87/100\n",
            "24192/24192 [==============================] - 6s 239us/sample - loss: 0.0012 - acc: 0.9996 - val_loss: 0.0483 - val_acc: 0.9861\n",
            "Epoch 88/100\n",
            "24192/24192 [==============================] - 6s 249us/sample - loss: 0.0020 - acc: 0.9995 - val_loss: 0.0676 - val_acc: 0.9852\n",
            "Epoch 89/100\n",
            "24192/24192 [==============================] - 6s 244us/sample - loss: 1.5629e-04 - acc: 1.0000 - val_loss: 0.0168 - val_acc: 0.9922\n",
            "Epoch 90/100\n",
            "24192/24192 [==============================] - 6s 244us/sample - loss: 1.0726e-05 - acc: 1.0000 - val_loss: 0.0192 - val_acc: 0.9922\n",
            "Epoch 91/100\n",
            "24192/24192 [==============================] - 6s 244us/sample - loss: 7.0069e-06 - acc: 1.0000 - val_loss: 0.0194 - val_acc: 0.9922\n",
            "Epoch 92/100\n",
            "24192/24192 [==============================] - 6s 247us/sample - loss: 5.1964e-06 - acc: 1.0000 - val_loss: 0.0197 - val_acc: 0.9922\n",
            "Epoch 93/100\n",
            "24192/24192 [==============================] - 6s 258us/sample - loss: 4.1220e-06 - acc: 1.0000 - val_loss: 0.0199 - val_acc: 0.9922\n",
            "Epoch 94/100\n",
            "24192/24192 [==============================] - 6s 250us/sample - loss: 3.3606e-06 - acc: 1.0000 - val_loss: 0.0207 - val_acc: 0.9922\n",
            "Epoch 95/100\n",
            "24192/24192 [==============================] - 6s 240us/sample - loss: 2.7886e-06 - acc: 1.0000 - val_loss: 0.0208 - val_acc: 0.9922\n",
            "Epoch 96/100\n",
            "24192/24192 [==============================] - 6s 248us/sample - loss: 2.3849e-06 - acc: 1.0000 - val_loss: 0.0210 - val_acc: 0.9922\n",
            "Epoch 97/100\n",
            "24192/24192 [==============================] - 6s 234us/sample - loss: 2.0568e-06 - acc: 1.0000 - val_loss: 0.0215 - val_acc: 0.9922\n",
            "Epoch 98/100\n",
            "24192/24192 [==============================] - 6s 252us/sample - loss: 1.7671e-06 - acc: 1.0000 - val_loss: 0.0218 - val_acc: 0.9922\n",
            "Epoch 99/100\n",
            "24192/24192 [==============================] - 6s 247us/sample - loss: 1.5203e-06 - acc: 1.0000 - val_loss: 0.0220 - val_acc: 0.9922\n",
            "Epoch 100/100\n",
            "24192/24192 [==============================] - 6s 243us/sample - loss: 1.3229e-06 - acc: 1.0000 - val_loss: 0.0222 - val_acc: 0.9922\n"
          ],
          "name": "stdout"
        }
      ]
    },
    {
      "cell_type": "markdown",
      "metadata": {
        "id": "J1M9sjHIbSnf",
        "colab_type": "text"
      },
      "source": [
        "### Plot Training Histoty"
      ]
    },
    {
      "cell_type": "code",
      "metadata": {
        "id": "ndNSS7XIbXaK",
        "colab_type": "code",
        "outputId": "c9b5c1db-b706-4719-fd1b-886e2784abc0",
        "colab": {
          "base_uri": "https://localhost:8080/",
          "height": 295
        }
      },
      "source": [
        "import matplotlib.pyplot as plt\n",
        "%matplotlib inline\n",
        "plt.plot(history.history['loss'])\n",
        "plt.plot(history.history['val_loss'])\n",
        "plt.title('LOSS History')\n",
        "plt.ylabel('loss')\n",
        "plt.xlabel('epoch')\n",
        "plt.legend(['train', 'validation'], loc='upper left')\n",
        "plt.savefig(os.path.join(PARAMS.MODEL_DIR,'{}_history.png'.format(PARAMS.MODEL_NAME)))"
      ],
      "execution_count": 8,
      "outputs": [
        {
          "output_type": "display_data",
          "data": {
            "image/png": "[encoded data removed]",
            "text/plain": [
              "<Figure size 432x288 with 1 Axes>"
            ]
          },
          "metadata": {
            "tags": []
          }
        }
      ]
    },
    {
      "cell_type": "markdown",
      "metadata": {
        "id": "mq8Ox3yJNzFj",
        "colab_type": "text"
      },
      "source": [
        "### F1 Score"
      ]
    },
    {
      "cell_type": "code",
      "metadata": {
        "id": "2xDVgO0ONwe1",
        "colab_type": "code",
        "outputId": "423af4ea-931d-4945-e05a-aa187ac91d42",
        "colab": {
          "base_uri": "https://localhost:8080/",
          "height": 156
        }
      },
      "source": [
        "from sklearn import metrics\n",
        "X_TEST_H5_DIR='/content/gdrive/My Drive/PROJECTS/MED/Test/X_test.h5' # @param\n",
        "Y_TEST_H5_DIR='/content/gdrive/My Drive/PROJECTS/MED/Test/Y_test.h5' # @param\n",
        "x_test=readh5(X_TEST_H5_DIR)\n",
        "y_test=readh5(Y_TEST_H5_DIR)\n",
        "x_test=x_test.astype('float32')/255.0\n",
        "y_true =[np.argmax(y) for y in y_test]\n",
        "total_data=x_test.shape[0]\n",
        "y_pred=[]\n",
        "for i in range(0,total_data,PARAMS.BATCH_SIZE):\n",
        "  y_batch=[]\n",
        "  x_batch=x_test[i:i+PARAMS.BATCH_SIZE]\n",
        "  y_batch=model.predict(x_batch)\n",
        "  for y_data in y_batch:\n",
        "    y_pred.append(np.argmax(y_data))\n",
        "f1_accuracy =100* metrics.f1_score(y_true,y_pred, average = 'micro')\n",
        "print('F1 SCORE:{} % '.format(f1_accuracy))"
      ],
      "execution_count": 9,
      "outputs": [
        {
          "output_type": "stream",
          "text": [
            "INFO:tensorflow:New input shapes; (re-)compiling: mode=infer (# of cores 8), [TensorSpec(shape=(4, 64, 64, 3), dtype=tf.float32, name='conv2d_input_10')]\n",
            "INFO:tensorflow:Overriding default placeholder.\n",
            "INFO:tensorflow:Cloning Adam {'lr': 0.0010000000474974513, 'beta_1': 0.8999999761581421, 'beta_2': 0.9990000128746033, 'decay': 0.0, 'epsilon': 1e-07, 'amsgrad': False}\n",
            "INFO:tensorflow:Remapping placeholder for conv2d_input\n",
            "INFO:tensorflow:Started compiling\n",
            "INFO:tensorflow:Finished compiling. Time elapsed: 1.849064588546753 secs\n",
            "F1 SCORE:99.33035714285714 % \n"
          ],
          "name": "stdout"
        }
      ]
    },
    {
      "cell_type": "markdown",
      "metadata": {
        "id": "5HgqGfmsdYxd",
        "colab_type": "text"
      },
      "source": [
        "### Save Model Weights"
      ]
    },
    {
      "cell_type": "code",
      "metadata": {
        "id": "WjTjBpFQdc-b",
        "colab_type": "code",
        "outputId": "08d8899b-2831-4637-c8b4-93ea3f1df07d",
        "colab": {
          "base_uri": "https://localhost:8080/",
          "height": 170
        }
      },
      "source": [
        "model.save_weights(os.path.join(PARAMS.MODEL_DIR,'{}_final.h5'.format(PARAMS.MODEL_NAME)))"
      ],
      "execution_count": 10,
      "outputs": [
        {
          "output_type": "stream",
          "text": [
            "INFO:tensorflow:Copying TPU weights to the CPU\n",
            "INFO:tensorflow:TPU -> CPU lr: 0.0010000000474974513\n",
            "INFO:tensorflow:TPU -> CPU beta_1: 0.8999999761581421\n",
            "INFO:tensorflow:TPU -> CPU beta_2: 0.9990000128746033\n",
            "INFO:tensorflow:TPU -> CPU decay: 0.0\n",
            "INFO:tensorflow:TPU -> CPU epsilon: 1e-07\n",
            "WARNING:tensorflow:Cannot update non-variable config: epsilon\n",
            "INFO:tensorflow:TPU -> CPU amsgrad: False\n",
            "WARNING:tensorflow:Cannot update non-variable config: amsgrad\n"
          ],
          "name": "stdout"
        }
      ]
    }
  ]
}